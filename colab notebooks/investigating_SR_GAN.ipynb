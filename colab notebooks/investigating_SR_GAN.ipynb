{
  "nbformat": 4,
  "nbformat_minor": 0,
  "metadata": {
    "colab": {
      "name": "investigating-SR-GAN.ipynb",
      "provenance": [],
      "collapsed_sections": [],
      "authorship_tag": "ABX9TyMQ7uvaFW3KXdy9qh8Lm3gO",
      "include_colab_link": true
    },
    "kernelspec": {
      "name": "python3",
      "display_name": "Python 3"
    }
  },
  "cells": [
    {
      "cell_type": "markdown",
      "metadata": {
        "id": "view-in-github",
        "colab_type": "text"
      },
      "source": [
        "<a href=\"https://colab.research.google.com/github/convergencelab/LSHT-HSLT-MODIS-Landsat-Fusion/blob/master/investigating_SR_GAN.ipynb\" target=\"_parent\"><img src=\"https://colab.research.google.com/assets/colab-badge.svg\" alt=\"Open In Colab\"/></a>"
      ]
    },
    {
      "cell_type": "markdown",
      "metadata": {
        "id": "TcH-75BnV6Tm",
        "colab_type": "text"
      },
      "source": [
        "# SR-GAN: Super-Resolution Generative Adversarial Network"
      ]
    },
    {
      "cell_type": "code",
      "metadata": {
        "id": "PACRqY9FV5dy",
        "colab_type": "code",
        "colab": {}
      },
      "source": [
        "# Load the TensorBoard notebook extension.\n",
        "%load_ext tensorboard"
      ],
      "execution_count": 1,
      "outputs": []
    },
    {
      "cell_type": "code",
      "metadata": {
        "id": "0cL0pdpzWKRf",
        "colab_type": "code",
        "colab": {
          "base_uri": "https://localhost:8080/",
          "height": 33
        },
        "outputId": "fb5a71c7-83fb-4ed3-afbc-cc176cc1570c"
      },
      "source": [
        "from datetime import datetime\n",
        "from packaging import version\n",
        "\n",
        "import tensorflow as tf\n",
        "from tensorflow import keras\n",
        "from tensorflow.keras.layers import BatchNormalization, Activation, LeakyReLU, Add, Dense, PReLU, Flatten, Conv2D, UpSampling2D\n",
        "from tensorflow.keras.models import Model\n",
        "from keras import backend as K\n",
        "import tensorflow_datasets as tfds\n",
        "from PIL import Image\n",
        "import matplotlib.pyplot as plt\n",
        "import numpy as np\n",
        "\n",
        "\n",
        "print(\"TensorFlow version: \", tf.__version__)\n",
        "assert version.parse(tf.__version__).release[0] >= 2, \\\n",
        "    \"This notebook requires TensorFlow 2.0 or above.\""
      ],
      "execution_count": 52,
      "outputs": [
        {
          "output_type": "stream",
          "text": [
            "TensorFlow version:  2.2.0\n"
          ],
          "name": "stdout"
        }
      ]
    },
    {
      "cell_type": "code",
      "metadata": {
        "id": "1XhgEbRKWUf6",
        "colab_type": "code",
        "colab": {}
      },
      "source": [
        "# Clear any logs from previous runs\n",
        "!rm -rf ./logs/ "
      ],
      "execution_count": 7,
      "outputs": []
    },
    {
      "cell_type": "markdown",
      "metadata": {
        "id": "JT_GQthUWZEy",
        "colab_type": "text"
      },
      "source": [
        "# Architecture"
      ]
    },
    {
      "cell_type": "code",
      "metadata": {
        "id": "T3YMNYJeXOHc",
        "colab_type": "code",
        "colab": {}
      },
      "source": [
        "# Define ResLayer\n",
        "class ResLayer(tf.keras.layers.Layer):\n",
        "  def __init__(self, kernel_size, filters, momentum, strides):\n",
        "    super(ResLayer, self).__init__()\n",
        "    filters1, filters2 = filters\n",
        "\n",
        "    self.conv2a = tf.keras.layers.Conv2D(filters1, (1, 1), strides=strides)\n",
        "    self.bn2a = tf.keras.layers.BatchNormalization(momentum=momentum)\n",
        "\n",
        "    self.conv2b = tf.keras.layers.Conv2D(filters2, kernel_size, padding='same', strides=strides)\n",
        "    self.bn2b = tf.keras.layers.BatchNormalization(momentum=momentum)\n",
        "\n",
        "  def call(self, input_tensor, training=False):\n",
        "      x = self.conv2a(input_tensor)\n",
        "      x = self.bn2a(x, training=training)\n",
        "      x = tf.nn.relu(x)\n",
        "\n",
        "      # skip activation on last one #\n",
        "      x = self.conv2b(x)\n",
        "      x = self.bn2b(x, training=training)\n",
        "\n",
        "      x += input_tensor\n",
        "      return tf.nn.relu(x)"
      ],
      "execution_count": 8,
      "outputs": []
    },
    {
      "cell_type": "markdown",
      "metadata": {
        "id": "qXKfAt96WmSx",
        "colab_type": "text"
      },
      "source": [
        "Gan consists of a Discriminator and Generator:"
      ]
    },
    {
      "cell_type": "code",
      "metadata": {
        "id": "cm1jMizhWWU6",
        "colab_type": "code",
        "colab": {}
      },
      "source": [
        "# Define the discriminator.\n",
        "class Discriminator(Model):\n",
        "    def __init__(self,\n",
        "                 momentum=0.8,\n",
        "                 leakyrelu_alpha=0.2,\n",
        "                 **kwargs\n",
        "                 ):\n",
        "        # call the parent constructor\n",
        "        super(Discriminator, self).__init__(**kwargs)\n",
        "\n",
        "        ###############\n",
        "        # HyperParams #\n",
        "        ###############\n",
        "        self.momentum = momentum\n",
        "        self.leakyrelu_alpha = leakyrelu_alpha\n",
        "\n",
        "        #################\n",
        "        # Discriminator #\n",
        "        #################\n",
        "        self.conv2f = Conv2D(filters=64, kernel_size=3, strides=1, padding='same')\n",
        "        self.activation4 = LeakyReLU(alpha=self.leakyrelu_alpha)\n",
        "\n",
        "        # convolution layers #\n",
        "        # Add the 2nd convolution block\n",
        "        self.conv2g = Conv2D(filters=64, kernel_size=3, strides=2, padding='same')\n",
        "        self.activation5 = LeakyReLU(alpha=leakyrelu_alpha)\n",
        "        self.bn2 = BatchNormalization(momentum=momentum)\n",
        "\n",
        "        # Add the third convolution block\n",
        "        self.conv2h = Conv2D(filters=128, kernel_size=3, strides=1, padding='same')\n",
        "        self.activation6 = LeakyReLU(alpha=leakyrelu_alpha)\n",
        "        self.bn3 = BatchNormalization(momentum=momentum)\n",
        "\n",
        "        # Add the fourth convolution block\n",
        "        self.conv2i = Conv2D(filters=128, kernel_size=3, strides=2, padding='same')\n",
        "        self.activation7 = LeakyReLU(alpha=leakyrelu_alpha)\n",
        "        self.bn4 = BatchNormalization(momentum=0.8)\n",
        "\n",
        "        # Add the fifth convolution block\n",
        "        self.conv2j = Conv2D(256, kernel_size=3, strides=1, padding='same')\n",
        "        self.activation8 = LeakyReLU(alpha=leakyrelu_alpha)\n",
        "        self.bn5 = BatchNormalization(momentum=momentum)\n",
        "\n",
        "        # Add the sixth convolution block\n",
        "        self.conv2k = Conv2D(filters=256, kernel_size=3, strides=2, padding='same')\n",
        "        self.activation9 = LeakyReLU(alpha=leakyrelu_alpha)\n",
        "        self.bn6 = BatchNormalization(momentum=momentum)\n",
        "\n",
        "        # Add the seventh convolution block\n",
        "        self.conv2l = Conv2D(filters=512, kernel_size=3, strides=1, padding='same')\n",
        "        self.activation10 = LeakyReLU(alpha=leakyrelu_alpha)\n",
        "        self.bn7 = BatchNormalization(momentum=momentum)\n",
        "\n",
        "        # Add the eight convolution block\n",
        "        self.conv2m = Conv2D(filters=512, kernel_size=3, strides=2, padding='same')\n",
        "        self.activation11 = LeakyReLU(alpha=leakyrelu_alpha)\n",
        "        self.bn8 = BatchNormalization(momentum=momentum)\n",
        "\n",
        "        # dense layer #\n",
        "        self.dense1 = Dense(units=1024)\n",
        "        self.activation12 = LeakyReLU(alpha=leakyrelu_alpha)\n",
        "\n",
        "        # output probability with sigmoid function #\n",
        "        self.Dense2 = Dense(units=1, activation='sigmoid')\n",
        "\n",
        "    def call(self, inputs):\n",
        "        #################\n",
        "        # Discriminator #\n",
        "        #################\n",
        "\n",
        "        # input generators output #\n",
        "        x = self.conv2f(inputs)\n",
        "        x = self.activation4(x)\n",
        "\n",
        "        # convolution layers #\n",
        "        # Add the 2nd convolution block\n",
        "        x = self.conv2g(x)\n",
        "        x = self.activation5(x)\n",
        "        x = self.bn2(x)\n",
        "\n",
        "        # Add the third convolution block\n",
        "        x = self.conv2h(x)\n",
        "        x = self.activation6(x)\n",
        "        x = self.bn3(x)\n",
        "\n",
        "        # Add the fourth convolution block\n",
        "        x = self.conv2i(x)\n",
        "        x = self.activation7(x)\n",
        "        x = self.bn4(x)\n",
        "\n",
        "        # Add the fifth convolution block\n",
        "        x = self.conv2j(x)\n",
        "        x = self.activation8(x)\n",
        "        x = self.bn5(x)\n",
        "\n",
        "        # Add the sixth convolution block\n",
        "        x = self.conv2k(x)\n",
        "        x = self.activation9(x)\n",
        "        x = self.bn6(x)\n",
        "\n",
        "        # Add the seventh convolution block\n",
        "        x = self.conv2l(x)\n",
        "        x = self.activation10(x)\n",
        "        x = self.bn7(x)\n",
        "\n",
        "        # Add the eight convolution block\n",
        "        x = self.conv2m(x)\n",
        "        x = self.activation11(x)\n",
        "        x = self.bn8(x)\n",
        "\n",
        "        # dense layer #\n",
        "        x = self.dense1(x)\n",
        "        x = self.activation12(x)\n",
        "\n",
        "        return self.Dense2(x)"
      ],
      "execution_count": 9,
      "outputs": []
    },
    {
      "cell_type": "code",
      "metadata": {
        "id": "Knm7DB9WW4g4",
        "colab_type": "code",
        "colab": {}
      },
      "source": [
        "# Define the Generator.\n",
        "class Generator(Model):\n",
        "    def __init__(self,\n",
        "                 residual_blocks=16,\n",
        "                 momentum=0.8,\n",
        "                 **kwargs\n",
        "                 ):\n",
        "        # call the parent constructor\n",
        "        super(Generator, self).__init__(**kwargs)\n",
        "\n",
        "        ###############\n",
        "        # HyperParams #\n",
        "        ###############\n",
        "        self.residual_blocks = residual_blocks\n",
        "        self.momentum = momentum\n",
        "\n",
        "        #############\n",
        "        # Generator #\n",
        "        #############\n",
        "        # feed in layer\n",
        "        self.conv2a = Conv2D(filters=64,\n",
        "                             kernel_size=9,\n",
        "                             strides=1,\n",
        "                             padding='same',\n",
        "                             activation='relu')\n",
        "\n",
        "        # res blocks #\n",
        "        self.res1 = ResLayer(kernel_size=3,\n",
        "                             filters=[64, 64],\n",
        "                             strides=1,\n",
        "                             momentum=momentum)\n",
        "        self.resblocks = []\n",
        "        for i in range(residual_blocks - 1):\n",
        "            self.resblocks.append(ResLayer(kernel_size=3,\n",
        "                                           filters=[64, 64],\n",
        "                                           strides=1,\n",
        "                                           momentum=momentum))\n",
        "\n",
        "        # post res blocks #\n",
        "        self.con2b = Conv2D(filters=64,\n",
        "                            kernel_size=3,\n",
        "                            strides=1,\n",
        "                            padding='same')\n",
        "\n",
        "        self.bn1 = BatchNormalization(momentum=momentum)\n",
        "        self.upspl1 = UpSampling2D(size=2)\n",
        "        self.conv2c = Conv2D(filters=256, kernel_size=3, strides=1, padding='same')\n",
        "        self.activation1 = Activation('relu')\n",
        "\n",
        "        self.upspl2 = UpSampling2D(size=2)\n",
        "        self.conv2d = Conv2D(filters=256, kernel_size=3, strides=1, padding='same')\n",
        "        self.activation2 = Activation('relu')\n",
        "\n",
        "        # output uses tanh as output activation #\n",
        "        self.conv2e = Conv2D(filters=3, kernel_size=9, strides=1, padding='same')\n",
        "        self.activation3 = Activation('tanh')\n",
        "\n",
        "    def call(self, inputs):\n",
        "\n",
        "        #############\n",
        "        # Generator #\n",
        "        #############\n",
        "        gen1 = self.conv2a(inputs)\n",
        "        x = self.res1(gen1)\n",
        "\n",
        "        # pass through all resblocks #\n",
        "        for r in self.resblocks:\n",
        "            x = r(x)\n",
        "\n",
        "        # post res blocks #\n",
        "        x = self.con2b(x)\n",
        "        gen2 = self.bn1(x)\n",
        "\n",
        "        # take the sum of the output from the pre-residual block,\n",
        "        # and the output from the post-residual block\n",
        "        x = Add()([gen2, gen1])\n",
        "\n",
        "        # upsample 1\n",
        "        x = self.upspl1(x)\n",
        "        x = self.conv2c(x)\n",
        "        x = self.activation1(x)\n",
        "\n",
        "        # upsample 2\n",
        "        x = self.upspl2(x)\n",
        "        x = self.conv2d(x)\n",
        "        x = self.activation2(x)\n",
        "\n",
        "        # output\n",
        "        x = self.conv2e(x)\n",
        "        return self.activation3(x)\n",
        "       "
      ],
      "execution_count": 99,
      "outputs": []
    },
    {
      "cell_type": "markdown",
      "metadata": {
        "id": "1ElKOCkUczfM",
        "colab_type": "text"
      },
      "source": [
        "The SR-GAN uses a pretrained VGG-19 to implement a perceptual loss function."
      ]
    },
    {
      "cell_type": "code",
      "metadata": {
        "id": "yBlY59oSc5ot",
        "colab_type": "code",
        "colab": {}
      },
      "source": [
        "vgg = tf.keras.applications.VGG19()\n",
        "# only use 1st and 2nd layer\n",
        "vgg = tf.keras.Sequential(vgg.layers[:7])"
      ],
      "execution_count": 90,
      "outputs": []
    },
    {
      "cell_type": "code",
      "metadata": {
        "id": "DEkAiq55Z5lw",
        "colab_type": "code",
        "colab": {}
      },
      "source": [
        "# generator loss function\n",
        "def gen_loss(y_actual, y_predicted):\n",
        "    m_loss = tf.keras.losses.MSE(y_actual, y_predicted)\n",
        "\n",
        "    # perceptual loss from vgg classification\n",
        "    v_pass = vgg(y_actual)\n",
        "    v_loss = tf.keras.losses.MSE(v_pass, y_predicted)\n",
        "    # return sum of bct loss, vgg loss and mse loss\n",
        "    return tf.keras.losses.BinaryCrossentropy(y_actual, y_predicted) + v_loss + m_loss\n"
      ],
      "execution_count": 91,
      "outputs": []
    },
    {
      "cell_type": "code",
      "metadata": {
        "id": "FTbxvc-LXm7A",
        "colab_type": "code",
        "colab": {}
      },
      "source": [
        "# initilaize models\n",
        "discriminator = Discriminator()\n",
        "generator = Generator()\n",
        "\n",
        "\n",
        "# compile models\n",
        "discriminator.compile(\n",
        "    optimizer='adam',\n",
        "    loss='Loss',\n",
        "    metrics=['accuracy']\n",
        ")\n",
        "\n",
        "generator.compile(\n",
        "    optimizer='adam',\n",
        "    loss=gen_loss,\n",
        "    metrics=['accuracy']\n",
        ")\n",
        "\n"
      ],
      "execution_count": 183,
      "outputs": []
    },
    {
      "cell_type": "markdown",
      "metadata": {
        "id": "vGaECQEagU5S",
        "colab_type": "text"
      },
      "source": [
        "Test running on random data. "
      ]
    },
    {
      "cell_type": "code",
      "metadata": {
        "id": "2qrtH52dgTmQ",
        "colab_type": "code",
        "colab": {}
      },
      "source": [
        "\"\"\"\n",
        "data = tfds.load('eurosat',split='train')\n",
        "data = tfds.as_numpy(data)\n",
        "print(\"type of dataset: {}\".format(type(data)))\n",
        "# get image dims\n",
        "s = next(data)\n",
        "print(s['image'].shape)\n",
        "\"\"\"\n",
        "(train_images, train_labels), _ = keras.datasets.fashion_mnist.load_data()\n",
        "train_images = train_images / 255.0\n",
        "\n"
      ],
      "execution_count": 170,
      "outputs": []
    },
    {
      "cell_type": "markdown",
      "metadata": {
        "id": "lk32cHd7upt_",
        "colab_type": "text"
      },
      "source": [
        "# I/O\n"
      ]
    },
    {
      "cell_type": "markdown",
      "metadata": {
        "id": "4OAuJyFHuMPs",
        "colab_type": "text"
      },
      "source": [
        "Looking at how the generator is taking input/producing an output:"
      ]
    },
    {
      "cell_type": "code",
      "metadata": {
        "id": "5d1UY4apgkZT",
        "colab_type": "code",
        "colab": {
          "base_uri": "https://localhost:8080/",
          "height": 285
        },
        "outputId": "e19ad25d-839b-4a71-dc5c-5deae938b768"
      },
      "source": [
        "# sample = next(data)\n",
        "fig, ax = plt.subplots(1,2)\n",
        "image = Image.fromarray(train_images[0])\n",
        "# resize to fit in conv\n",
        "image = np.array(image.resize((28,28))).astype('float32')\n",
        "\n",
        "\n",
        "print(image.shape)\n",
        "input_crop = image.reshape(1, 1, *image.shape )\n",
        "\n",
        "ax[0].imshow(image)\n",
        "ax[0].set_title(\"input\")\n",
        "# feed through generator #\n",
        "out = generator.predict(input_crop)\n",
        "out[0].shape\n",
        "ax[1].imshow(out[0])\n",
        "ax[1].set_title(\"output\")\n",
        "\n"
      ],
      "execution_count": 175,
      "outputs": [
        {
          "output_type": "stream",
          "text": [
            "WARNING:matplotlib.image:Clipping input data to the valid range for imshow with RGB data ([0..1] for floats or [0..255] for integers).\n"
          ],
          "name": "stderr"
        },
        {
          "output_type": "stream",
          "text": [
            "(28, 28)\n"
          ],
          "name": "stdout"
        },
        {
          "output_type": "execute_result",
          "data": {
            "text/plain": [
              "Text(0.5, 1.0, 'output')"
            ]
          },
          "metadata": {
            "tags": []
          },
          "execution_count": 175
        },
        {
          "output_type": "display_data",
          "data": {
            "image/png": "[encoded data removed]",
            "text/plain": [
              "<Figure size 432x288 with 2 Axes>"
            ]
          },
          "metadata": {
            "tags": [],
            "needs_background": "light"
          }
        }
      ]
    },
    {
      "cell_type": "markdown",
      "metadata": {
        "id": "gGuxNMjTFbTK",
        "colab_type": "text"
      },
      "source": [
        "Output does not resemble anything due to not being trained"
      ]
    },
    {
      "cell_type": "markdown",
      "metadata": {
        "id": "eeWsTDIsuzQe",
        "colab_type": "text"
      },
      "source": [
        "Looking at how the discriminator is taking input/producing an output"
      ]
    },
    {
      "cell_type": "code",
      "metadata": {
        "id": "8LrkG4LUu7Ov",
        "colab_type": "code",
        "colab": {
          "base_uri": "https://localhost:8080/",
          "height": 768
        },
        "outputId": "7b927ff9-babe-4ca6-8996-c7e33b4cf101"
      },
      "source": [
        "# sample = next(data)\n",
        "fig, ax = plt.subplots(1,1)\n",
        "image = Image.fromarray(train_images[0])\n",
        "# resize to fit in conv\n",
        "image = np.array(image.resize((28,28))).astype('float32')\n",
        "ax.imshow(image)\n",
        "ax.set_title(\"input sample\")\n",
        "plt.show()\n",
        "to_avg = []\n",
        "\n",
        "for step in range(15):\n",
        "  image = Image.fromarray(train_images[1])\n",
        "  # resize to fit in conv\n",
        "  image = np.array(image.resize((28,28))).astype('float32')\n",
        "  input_crop = image.reshape(1, 1, *image.shape )\n",
        "  # feed through discrim #\n",
        "  out = discriminator.predict(input_crop)\n",
        "  print(\"Discriminator output: {}\".format(out))\n",
        "  to_avg.append(out)\n"
      ],
      "execution_count": 176,
      "outputs": [
        {
          "output_type": "display_data",
          "data": {
            "image/png": "[encoded data removed]",
            "text/plain": [
              "<Figure size 432x288 with 1 Axes>"
            ]
          },
          "metadata": {
            "tags": [],
            "needs_background": "light"
          }
        },
        {
          "output_type": "stream",
          "text": [
            "Discriminator output: [[[[0.49998778]\n",
            "   [0.5000024 ]]]]\n",
            "Discriminator output: [[[[0.49998778]\n",
            "   [0.5000024 ]]]]\n",
            "Discriminator output: [[[[0.49998778]\n",
            "   [0.5000024 ]]]]\n",
            "Discriminator output: [[[[0.49998778]\n",
            "   [0.5000024 ]]]]\n",
            "Discriminator output: [[[[0.49998778]\n",
            "   [0.5000024 ]]]]\n",
            "Discriminator output: [[[[0.49998778]\n",
            "   [0.5000024 ]]]]\n",
            "Discriminator output: [[[[0.49998778]\n",
            "   [0.5000024 ]]]]\n",
            "Discriminator output: [[[[0.49998778]\n",
            "   [0.5000024 ]]]]\n",
            "Discriminator output: [[[[0.49998778]\n",
            "   [0.5000024 ]]]]\n",
            "Discriminator output: [[[[0.49998778]\n",
            "   [0.5000024 ]]]]\n",
            "Discriminator output: [[[[0.49998778]\n",
            "   [0.5000024 ]]]]\n",
            "Discriminator output: [[[[0.49998778]\n",
            "   [0.5000024 ]]]]\n",
            "Discriminator output: [[[[0.49998778]\n",
            "   [0.5000024 ]]]]\n",
            "Discriminator output: [[[[0.49998778]\n",
            "   [0.5000024 ]]]]\n",
            "Discriminator output: [[[[0.49998778]\n",
            "   [0.5000024 ]]]]\n"
          ],
          "name": "stdout"
        }
      ]
    },
    {
      "cell_type": "markdown",
      "metadata": {
        "id": "DEMQS8xJwY_J",
        "colab_type": "text"
      },
      "source": [
        "As we can see: because we have not trained this net and there is no definition of fake vs. real image, the model is very very close to a 50/50 split in its predictions. AKA pure guess. "
      ]
    }
  ]
}